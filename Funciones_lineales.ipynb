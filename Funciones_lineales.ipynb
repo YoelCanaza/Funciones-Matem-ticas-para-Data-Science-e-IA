{
  "nbformat": 4,
  "nbformat_minor": 0,
  "metadata": {
    "colab": {
      "provenance": [],
      "authorship_tag": "ABX9TyOXh9jmkbd+IBYv9kU5DSPq",
      "include_colab_link": true
    },
    "kernelspec": {
      "name": "python3",
      "display_name": "Python 3"
    },
    "language_info": {
      "name": "python"
    }
  },
  "cells": [
    {
      "cell_type": "markdown",
      "metadata": {
        "id": "view-in-github",
        "colab_type": "text"
      },
      "source": [
        "<a href=\"https://colab.research.google.com/github/YoelCanaza/Funciones-Matem-ticas-para-Data-Science-e-IA/blob/main/Funciones_lineales.ipynb\" target=\"_parent\"><img src=\"https://colab.research.google.com/assets/colab-badge.svg\" alt=\"Open In Colab\"/></a>"
      ]
    },
    {
      "cell_type": "markdown",
      "source": [
        "# FUNCIONES LINEALES"
      ],
      "metadata": {
        "id": "QpDIRwZfrE48"
      }
    },
    {
      "cell_type": "markdown",
      "source": [
        "### Librerías"
      ],
      "metadata": {
        "id": "jNmAcWgcvhoV"
      }
    },
    {
      "cell_type": "code",
      "source": [
        "import matplotlib.pyplot as plt\n",
        "import numpy as np"
      ],
      "metadata": {
        "id": "pQT1dVinv6Vg"
      },
      "execution_count": 1,
      "outputs": []
    },
    {
      "cell_type": "markdown",
      "source": [
        "Tiene la forma de $$f(x)=mx + b$$ donde $m$ y $b$  $\\in R$.\n",
        "\n",
        "$m$ puede ser calculada por: $$m=\\frac{y_{2}-y_{1}}{x_{2}-x_{1}}$$\n",
        "\n",
        "y $b$ es el punto de corte con el eje $y$. Su dominio es $Dom_{f} = (-\\infty, \\infty)$. Su imagen es $Im_{f} = (-\\infty, \\infty)$"
      ],
      "metadata": {
        "id": "bEMNnpSBPCZz"
      }
    },
    {
      "cell_type": "code",
      "execution_count": 8,
      "metadata": {
        "id": "DOjf43MBq7Km",
        "colab": {
          "base_uri": "https://localhost:8080/"
        },
        "outputId": "214c8894-d8ab-41b0-d80b-38003bdba195"
      },
      "outputs": [
        {
          "output_type": "execute_result",
          "data": {
            "text/plain": [
              "array([-9.50000000e+01, -9.29797980e+01, -9.09595960e+01, -8.89393939e+01,\n",
              "       -8.69191919e+01, -8.48989899e+01, -8.28787879e+01, -8.08585859e+01,\n",
              "       -7.88383838e+01, -7.68181818e+01, -7.47979798e+01, -7.27777778e+01,\n",
              "       -7.07575758e+01, -6.87373737e+01, -6.67171717e+01, -6.46969697e+01,\n",
              "       -6.26767677e+01, -6.06565657e+01, -5.86363636e+01, -5.66161616e+01,\n",
              "       -5.45959596e+01, -5.25757576e+01, -5.05555556e+01, -4.85353535e+01,\n",
              "       -4.65151515e+01, -4.44949495e+01, -4.24747475e+01, -4.04545455e+01,\n",
              "       -3.84343434e+01, -3.64141414e+01, -3.43939394e+01, -3.23737374e+01,\n",
              "       -3.03535354e+01, -2.83333333e+01, -2.63131313e+01, -2.42929293e+01,\n",
              "       -2.22727273e+01, -2.02525253e+01, -1.82323232e+01, -1.62121212e+01,\n",
              "       -1.41919192e+01, -1.21717172e+01, -1.01515152e+01, -8.13131313e+00,\n",
              "       -6.11111111e+00, -4.09090909e+00, -2.07070707e+00, -5.05050505e-02,\n",
              "        1.96969697e+00,  3.98989899e+00,  6.01010101e+00,  8.03030303e+00,\n",
              "        1.00505051e+01,  1.20707071e+01,  1.40909091e+01,  1.61111111e+01,\n",
              "        1.81313131e+01,  2.01515152e+01,  2.21717172e+01,  2.41919192e+01,\n",
              "        2.62121212e+01,  2.82323232e+01,  3.02525253e+01,  3.22727273e+01,\n",
              "        3.42929293e+01,  3.63131313e+01,  3.83333333e+01,  4.03535354e+01,\n",
              "        4.23737374e+01,  4.43939394e+01,  4.64141414e+01,  4.84343434e+01,\n",
              "        5.04545455e+01,  5.24747475e+01,  5.44949495e+01,  5.65151515e+01,\n",
              "        5.85353535e+01,  6.05555556e+01,  6.25757576e+01,  6.45959596e+01,\n",
              "        6.66161616e+01,  6.86363636e+01,  7.06565657e+01,  7.26767677e+01,\n",
              "        7.46969697e+01,  7.67171717e+01,  7.87373737e+01,  8.07575758e+01,\n",
              "        8.27777778e+01,  8.47979798e+01,  8.68181818e+01,  8.88383838e+01,\n",
              "        9.08585859e+01,  9.28787879e+01,  9.48989899e+01,  9.69191919e+01,\n",
              "        9.89393939e+01,  1.00959596e+02,  1.02979798e+02,  1.05000000e+02])"
            ]
          },
          "metadata": {},
          "execution_count": 8
        }
      ],
      "source": [
        "N = 100   # N va a ser la resolución o los puntos que queramos en nuestra gráfica\n",
        "\n",
        "m = 10\n",
        "b = 5\n",
        "\n",
        "def f(x):\n",
        "  return m * x + b\n",
        "\n",
        "x = np.linspace(-10, 10, num = N)\n",
        "\n",
        "y = f(x)\n",
        "y"
      ]
    }
  ]
}